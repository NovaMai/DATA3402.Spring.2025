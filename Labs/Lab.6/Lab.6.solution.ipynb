{
 "cells": [
  {
   "cell_type": "markdown",
   "metadata": {},
   "source": [
    "# Lab 6"
   ]
  },
  {
   "cell_type": "markdown",
   "metadata": {},
   "source": [
    "You are tasked with evaluating card counting strategies for black jack. In order to do so, you will use object oriented programming to create a playable casino style black jack game where a computer dealer plays against $n$ computer players and possibily one human player. If you don't know the rules of blackjack or card counting, please google it. \n",
    "\n",
    "A few requirements:\n",
    "* The game should utilize multiple 52-card decks. Typically the game is played with 6 decks.\n",
    "* Players should have chips.\n",
    "* Dealer's actions are predefined by rules of the game (typically hit on 16). \n",
    "* The players should be aware of all shown cards so that they can count cards.\n",
    "* Each player could have a different strategy.\n",
    "* The system should allow you to play large numbers of games, study the outcomes, and compare average winnings per hand rate for different strategies."
   ]
  },
  {
   "cell_type": "markdown",
   "metadata": {},
   "source": [
    "1. Begin by creating a classes to represent cards and decks. The deck should support more than one 52-card set. The deck should allow you to shuffle and draw cards. Include a \"plastic\" card, placed randomly in the deck. Later, when the plastic card is dealt, shuffle the cards before the next deal."
   ]
  },
  {
   "cell_type": "code",
   "execution_count": 51,
   "metadata": {},
   "outputs": [],
   "source": [
    "class Card:\n",
    "    def __init__(self, card):\n",
    "        self.rank = card[0]\n",
    "        self.suit = card[1]\n",
    "    \n",
    "    def card_value(self):\n",
    "        if self.rank in ['J', 'Q', 'K']:\n",
    "            return 10\n",
    "        elif self.rank=='A':\n",
    "            return 11\n",
    "        else:\n",
    "            return int(self.rank)\n",
    "    \n",
    "    def __str__(self):\n",
    "        return f\"{self.rank},{self.suit}\""
   ]
  },
  {
   "cell_type": "code",
   "execution_count": 52,
   "metadata": {},
   "outputs": [],
   "source": [
    "import random\n",
    "class Deck:\n",
    "    def __init__(self, number_decks):\n",
    "        self.number_decks = number_decks\n",
    "        self.cards = self.generate_card()\n",
    "        self.shuffle()\n",
    "    \n",
    "    def generate_card(self):\n",
    "        suits = ['H', 'D', 'C', 'S']\n",
    "        ranks = ['2', '3', '4', '5', '6', '7', '8', '9', '10', 'J', 'Q', 'K', 'A']\n",
    "        cards=[]\n",
    "        for suit in suits:\n",
    "            for rank in ranks:\n",
    "                cards.append((rank, suit))\n",
    "        return cards*self.number_decks\n",
    "    \n",
    "    def shuffle(self):\n",
    "        random.shuffle(self.cards)\n",
    "    \n",
    "    def draw_card(self):\n",
    "        card_draw = self.cards.pop(0)\n",
    "        return card_draw\n",
    "\n",
    "\n"
   ]
  },
  {
   "cell_type": "code",
   "execution_count": 53,
   "metadata": {},
   "outputs": [
    {
     "name": "stdout",
     "output_type": "stream",
     "text": [
      "[('2', 'H'), ('3', 'H'), ('4', 'H'), ('5', 'H'), ('6', 'H'), ('7', 'H'), ('8', 'H'), ('9', 'H'), ('10', 'H'), ('J', 'H'), ('Q', 'H'), ('K', 'H'), ('A', 'H'), ('2', 'D'), ('3', 'D'), ('4', 'D'), ('5', 'D'), ('6', 'D'), ('7', 'D'), ('8', 'D'), ('9', 'D'), ('10', 'D'), ('J', 'D'), ('Q', 'D'), ('K', 'D'), ('A', 'D'), ('2', 'C'), ('3', 'C'), ('4', 'C'), ('5', 'C'), ('6', 'C'), ('7', 'C'), ('8', 'C'), ('9', 'C'), ('10', 'C'), ('J', 'C'), ('Q', 'C'), ('K', 'C'), ('A', 'C'), ('2', 'S'), ('3', 'S'), ('4', 'S'), ('5', 'S'), ('6', 'S'), ('7', 'S'), ('8', 'S'), ('9', 'S'), ('10', 'S'), ('J', 'S'), ('Q', 'S'), ('K', 'S'), ('A', 'S')]\n",
      "[('5', 'H'), ('4', 'D'), ('2', 'H'), ('8', 'C'), ('7', 'H'), ('6', 'H'), ('10', 'S'), ('4', 'S'), ('4', 'C'), ('2', 'D'), ('A', 'S'), ('J', 'H'), ('K', 'H'), ('8', 'D'), ('9', 'D'), ('5', 'D'), ('9', 'S'), ('Q', 'S'), ('3', 'C'), ('A', 'H'), ('3', 'S'), ('8', 'S'), ('6', 'D'), ('3', 'H'), ('2', 'C'), ('J', 'C'), ('J', 'D'), ('A', 'D'), ('K', 'S'), ('10', 'H'), ('7', 'C'), ('4', 'H'), ('2', 'S'), ('3', 'D'), ('J', 'S'), ('Q', 'D'), ('6', 'C'), ('10', 'C'), ('7', 'S'), ('9', 'H'), ('Q', 'C'), ('6', 'S'), ('A', 'C'), ('9', 'C'), ('5', 'S'), ('10', 'D'), ('5', 'C'), ('Q', 'H'), ('8', 'H'), ('7', 'D'), ('K', 'D'), ('K', 'C')]\n"
     ]
    }
   ],
   "source": [
    "deck = Deck(1)\n",
    "print(deck.generate_card())\n",
    "print(deck.cards)"
   ]
  },
  {
   "cell_type": "code",
   "execution_count": 54,
   "metadata": {},
   "outputs": [
    {
     "name": "stdout",
     "output_type": "stream",
     "text": [
      "5\n"
     ]
    }
   ],
   "source": [
    "card = Card(deck.cards[0])\n",
    "print(card.card_value())"
   ]
  },
  {
   "cell_type": "markdown",
   "metadata": {},
   "source": [
    "2. Now design your game on a UML diagram. You may want to create classes to represent, players, a hand, and/or the game. As you work through the lab, update your UML diagram. At the end of the lab, submit your diagram (as pdf file) along with your notebook. "
   ]
  },
  {
   "cell_type": "markdown",
   "metadata": {},
   "source": [
    "3. Begin with implementing the skeleton (ie define data members and methods/functions, but do not code the logic) of the classes in your UML diagram."
   ]
  },
  {
   "cell_type": "markdown",
   "metadata": {},
   "source": [
    "4. Complete the implementation by coding the logic of all functions. For now, just implement the dealer player and human player."
   ]
  },
  {
   "cell_type": "code",
   "execution_count": 55,
   "metadata": {},
   "outputs": [],
   "source": [
    "class Dealer:\n",
    "    def __init__(self):\n",
    "        self.hand = []\n",
    "\n",
    "    def hand_value(self):\n",
    "        total = sum(card.card_value() for card in self.hand)\n",
    "        num_aces = sum(1 for card in self.hand if card.rank == 'A')\n",
    "        \n",
    "        while total > 21 and num_aces:\n",
    "            total -= 10  # Convert an Ace from 11 to 1\n",
    "            num_aces -= 1\n",
    "\n",
    "        return total\n",
    "    \n",
    "    def play(self):\n",
    "        if self.hand_value()<17:\n",
    "            self.hand.append(deck.draw_card())\n",
    "\n",
    "    \n"
   ]
  },
  {
   "cell_type": "code",
   "execution_count": 56,
   "metadata": {},
   "outputs": [],
   "source": [
    "class Player:\n",
    "    def __init__(self, name, chips=1000):\n",
    "        self.name = name\n",
    "        self.hand = []\n",
    "        self.chips = chips\n",
    "\n",
    "    def hand_value(self):\n",
    "        total = sum(card.card_value() for card in self.hand)\n",
    "        num_aces = sum(1 for card in self.hand if card.rank == 'A')\n",
    "        \n",
    "        while total > 21 and num_aces:\n",
    "            total -= 10  # Convert an Ace from 11 to 1\n",
    "            num_aces -= 1\n",
    "\n",
    "        return total\n",
    "    \n",
    "    def play(self, deck):\n",
    "        if self.hand_value()<17:\n",
    "            self.hand.append(deck.draw_card())\n",
    "    \n",
    "    def bet(self, n):\n",
    "        self.chips = self.chips - 10\n",
    "        return 10\n",
    "\n",
    "    def winning(self, n):\n",
    "        return self.chips+n\n",
    "    \n",
    "    def loosing(self, n):\n",
    "        return self.chips-n\n",
    "    \n",
    "    def __str__(self):\n",
    "        return f\"{self.name}: {', '.join(str(card) for card in self.hand)} (Total: {self.hand_value()})\""
   ]
  },
  {
   "cell_type": "code",
   "execution_count": 57,
   "metadata": {},
   "outputs": [],
   "source": [
    "class Human(Player):\n",
    "    def __init__(self, name, chips):\n",
    "        super().__init__(name, chips)\n",
    "    def play(self, deck):\n",
    "        if self.hand_value()<16:\n",
    "            self.hand.append(deck.draw_card())\n",
    "    def bet(self, n):\n",
    "        if n > self.chips:\n",
    "            print(\"Player does not have enough chips.\")\n",
    "        else:\n",
    "            self.chips = self.chips - n\n",
    "        return self.chips\n"
   ]
  },
  {
   "cell_type": "code",
   "execution_count": 58,
   "metadata": {},
   "outputs": [],
   "source": [
    "class Game:\n",
    "    def __init__(self, num_players, human_player = False, num_decks=6):\n",
    "        self.dealer = Dealer()\n",
    "        self.deck = Deck(num_decks)\n",
    "        self.players = [Player(f\"Player {i+1}\") for i in range(num_players)]\n",
    "        \n",
    "        if human_player:\n",
    "            human_name = input(\"Enter your name: \")\n",
    "            self.players.append(Human(human_name))\n",
    "    \n",
    "    def play_round(self):\n",
    "        self.dealer.hand = [self.deck.draw_card(), self.deck.draw_card()]\n",
    "        for player in self.players:\n",
    "            player.hand = [self.deck.draw_card(), self.deck.draw_card()]\n",
    "        \n",
    "        # Players take turns\n",
    "        for player in self.players:\n",
    "            player.play(self.deck)\n",
    "        \n",
    "        # Dealer plays\n",
    "        self.dealer.play(self.deck)\n",
    "\n",
    "        # Display final hands\n",
    "        self.display_results()\n",
    "\n",
    "    def display_results(self):\n",
    "        print(\"\\nFinal results:\")\n",
    "        print(self.dealer)\n",
    "        for player in self.players:\n",
    "            print(player)\n",
    "            if player.hand_value() > 21:\n",
    "                print(f\"{player.name} busts! Dealer wins.\")\n",
    "            elif self.dealer.hand_value() > 21:\n",
    "                print(f\"Dealer busts! {player.name} wins!\")\n",
    "            elif player.hand_value() > self.dealer.hand_value():\n",
    "                print(f\"{player.name} wins!\")\n",
    "            elif player.hand_value() < self.dealer.hand_value():\n",
    "                print(f\"Dealer wins against {player.name}.\")\n",
    "            else:\n",
    "                print(f\"{player.name} ties with the dealer.\")\n",
    "\n",
    "        \n",
    "    \n",
    "        \n"
   ]
  },
  {
   "cell_type": "markdown",
   "metadata": {},
   "source": [
    "5.  Test. Demonstrate game play. For example, create a game of several dealer players and show that the game is functional through several rounds."
   ]
  },
  {
   "cell_type": "code",
   "execution_count": 59,
   "metadata": {},
   "outputs": [
    {
     "ename": "AttributeError",
     "evalue": "'tuple' object has no attribute 'card_value'",
     "output_type": "error",
     "traceback": [
      "\u001b[1;31m---------------------------------------------------------------------------\u001b[0m",
      "\u001b[1;31mAttributeError\u001b[0m                            Traceback (most recent call last)",
      "Cell \u001b[1;32mIn[59], line 6\u001b[0m\n\u001b[0;32m      3\u001b[0m include_human \u001b[38;5;241m=\u001b[39m \u001b[38;5;28minput\u001b[39m(\u001b[38;5;124m\"\u001b[39m\u001b[38;5;124mDo you want to play? (yes/no): \u001b[39m\u001b[38;5;124m\"\u001b[39m)\u001b[38;5;241m.\u001b[39mstrip()\u001b[38;5;241m.\u001b[39mlower() \u001b[38;5;241m==\u001b[39m \u001b[38;5;124m\"\u001b[39m\u001b[38;5;124myes\u001b[39m\u001b[38;5;124m\"\u001b[39m\n\u001b[0;32m      5\u001b[0m game \u001b[38;5;241m=\u001b[39m Game(num_players\u001b[38;5;241m=\u001b[39mnum_players, human_player \u001b[38;5;241m=\u001b[39m include_human, num_decks\u001b[38;5;241m=\u001b[39m\u001b[38;5;241m6\u001b[39m)\n\u001b[1;32m----> 6\u001b[0m \u001b[43mgame\u001b[49m\u001b[38;5;241;43m.\u001b[39;49m\u001b[43mplay_round\u001b[49m\u001b[43m(\u001b[49m\u001b[43m)\u001b[49m\n",
      "Cell \u001b[1;32mIn[58], line 18\u001b[0m, in \u001b[0;36mGame.play_round\u001b[1;34m(self)\u001b[0m\n\u001b[0;32m     16\u001b[0m \u001b[38;5;66;03m# Players take turns\u001b[39;00m\n\u001b[0;32m     17\u001b[0m \u001b[38;5;28;01mfor\u001b[39;00m player \u001b[38;5;129;01min\u001b[39;00m \u001b[38;5;28mself\u001b[39m\u001b[38;5;241m.\u001b[39mplayers:\n\u001b[1;32m---> 18\u001b[0m     \u001b[43mplayer\u001b[49m\u001b[38;5;241;43m.\u001b[39;49m\u001b[43mplay\u001b[49m\u001b[43m(\u001b[49m\u001b[38;5;28;43mself\u001b[39;49m\u001b[38;5;241;43m.\u001b[39;49m\u001b[43mdeck\u001b[49m\u001b[43m)\u001b[49m\n\u001b[0;32m     20\u001b[0m \u001b[38;5;66;03m# Dealer plays\u001b[39;00m\n\u001b[0;32m     21\u001b[0m \u001b[38;5;28mself\u001b[39m\u001b[38;5;241m.\u001b[39mdealer\u001b[38;5;241m.\u001b[39mplay(\u001b[38;5;28mself\u001b[39m\u001b[38;5;241m.\u001b[39mdeck)\n",
      "Cell \u001b[1;32mIn[56], line 18\u001b[0m, in \u001b[0;36mPlayer.play\u001b[1;34m(self, deck)\u001b[0m\n\u001b[0;32m     17\u001b[0m \u001b[38;5;28;01mdef\u001b[39;00m\u001b[38;5;250m \u001b[39m\u001b[38;5;21mplay\u001b[39m(\u001b[38;5;28mself\u001b[39m, deck):\n\u001b[1;32m---> 18\u001b[0m     \u001b[38;5;28;01mif\u001b[39;00m \u001b[38;5;28;43mself\u001b[39;49m\u001b[38;5;241;43m.\u001b[39;49m\u001b[43mhand_value\u001b[49m\u001b[43m(\u001b[49m\u001b[43m)\u001b[49m\u001b[38;5;241m<\u001b[39m\u001b[38;5;241m17\u001b[39m:\n\u001b[0;32m     19\u001b[0m         \u001b[38;5;28mself\u001b[39m\u001b[38;5;241m.\u001b[39mhand\u001b[38;5;241m.\u001b[39mappend(deck\u001b[38;5;241m.\u001b[39mdraw_card())\n",
      "Cell \u001b[1;32mIn[56], line 8\u001b[0m, in \u001b[0;36mPlayer.hand_value\u001b[1;34m(self)\u001b[0m\n\u001b[0;32m      7\u001b[0m \u001b[38;5;28;01mdef\u001b[39;00m\u001b[38;5;250m \u001b[39m\u001b[38;5;21mhand_value\u001b[39m(\u001b[38;5;28mself\u001b[39m):\n\u001b[1;32m----> 8\u001b[0m     total \u001b[38;5;241m=\u001b[39m \u001b[38;5;28;43msum\u001b[39;49m\u001b[43m(\u001b[49m\u001b[43mcard\u001b[49m\u001b[38;5;241;43m.\u001b[39;49m\u001b[43mcard_value\u001b[49m\u001b[43m(\u001b[49m\u001b[43m)\u001b[49m\u001b[43m \u001b[49m\u001b[38;5;28;43;01mfor\u001b[39;49;00m\u001b[43m \u001b[49m\u001b[43mcard\u001b[49m\u001b[43m \u001b[49m\u001b[38;5;129;43;01min\u001b[39;49;00m\u001b[43m \u001b[49m\u001b[38;5;28;43mself\u001b[39;49m\u001b[38;5;241;43m.\u001b[39;49m\u001b[43mhand\u001b[49m\u001b[43m)\u001b[49m\n\u001b[0;32m      9\u001b[0m     num_aces \u001b[38;5;241m=\u001b[39m \u001b[38;5;28msum\u001b[39m(\u001b[38;5;241m1\u001b[39m \u001b[38;5;28;01mfor\u001b[39;00m card \u001b[38;5;129;01min\u001b[39;00m \u001b[38;5;28mself\u001b[39m\u001b[38;5;241m.\u001b[39mhand \u001b[38;5;28;01mif\u001b[39;00m card\u001b[38;5;241m.\u001b[39mrank \u001b[38;5;241m==\u001b[39m \u001b[38;5;124m'\u001b[39m\u001b[38;5;124mA\u001b[39m\u001b[38;5;124m'\u001b[39m)\n\u001b[0;32m     11\u001b[0m     \u001b[38;5;28;01mwhile\u001b[39;00m total \u001b[38;5;241m>\u001b[39m \u001b[38;5;241m21\u001b[39m \u001b[38;5;129;01mand\u001b[39;00m num_aces:\n",
      "Cell \u001b[1;32mIn[56], line 8\u001b[0m, in \u001b[0;36m<genexpr>\u001b[1;34m(.0)\u001b[0m\n\u001b[0;32m      7\u001b[0m \u001b[38;5;28;01mdef\u001b[39;00m\u001b[38;5;250m \u001b[39m\u001b[38;5;21mhand_value\u001b[39m(\u001b[38;5;28mself\u001b[39m):\n\u001b[1;32m----> 8\u001b[0m     total \u001b[38;5;241m=\u001b[39m \u001b[38;5;28msum\u001b[39m(\u001b[43mcard\u001b[49m\u001b[38;5;241;43m.\u001b[39;49m\u001b[43mcard_value\u001b[49m() \u001b[38;5;28;01mfor\u001b[39;00m card \u001b[38;5;129;01min\u001b[39;00m \u001b[38;5;28mself\u001b[39m\u001b[38;5;241m.\u001b[39mhand)\n\u001b[0;32m      9\u001b[0m     num_aces \u001b[38;5;241m=\u001b[39m \u001b[38;5;28msum\u001b[39m(\u001b[38;5;241m1\u001b[39m \u001b[38;5;28;01mfor\u001b[39;00m card \u001b[38;5;129;01min\u001b[39;00m \u001b[38;5;28mself\u001b[39m\u001b[38;5;241m.\u001b[39mhand \u001b[38;5;28;01mif\u001b[39;00m card\u001b[38;5;241m.\u001b[39mrank \u001b[38;5;241m==\u001b[39m \u001b[38;5;124m'\u001b[39m\u001b[38;5;124mA\u001b[39m\u001b[38;5;124m'\u001b[39m)\n\u001b[0;32m     11\u001b[0m     \u001b[38;5;28;01mwhile\u001b[39;00m total \u001b[38;5;241m>\u001b[39m \u001b[38;5;241m21\u001b[39m \u001b[38;5;129;01mand\u001b[39;00m num_aces:\n",
      "\u001b[1;31mAttributeError\u001b[0m: 'tuple' object has no attribute 'card_value'"
     ]
    }
   ],
   "source": [
    "if __name__ == \"__main__\":\n",
    "    num_players = int(input(\"Enter the number of AI players: \"))\n",
    "    include_human = input(\"Do you want to play? (yes/no): \").strip().lower() == \"yes\"\n",
    "\n",
    "    game = Game(num_players=num_players, human_player = include_human, num_decks=6)\n",
    "    game.play_round()"
   ]
  },
  {
   "cell_type": "markdown",
   "metadata": {},
   "source": [
    "6. Implement a new player with the following strategy:\n",
    "\n",
    "    * Assign each card a value: \n",
    "        * Cards 2 to 6 are +1 \n",
    "        * Cards 7 to 9 are 0 \n",
    "        * Cards 10 through Ace are -1\n",
    "    * Compute the sum of the values for all cards seen so far.\n",
    "    * Hit if sum is very negative, stay if sum is very positive. Select a threshold for hit/stay, e.g. 0 or -2.  "
   ]
  },
  {
   "cell_type": "markdown",
   "metadata": {},
   "source": [
    "7. Create a test scenario where one player, using the above strategy, is playing with a dealer and 3 other players that follow the dealer's strategy. Each player starts with same number of chips. Play 50 rounds (or until the strategy player is out of money). Compute the strategy player's winnings. You may remove unnecessary printouts from your code (perhaps implement a verbose/quiet mode) to reduce the output."
   ]
  },
  {
   "cell_type": "markdown",
   "metadata": {},
   "source": [
    "8. Create a loop that runs 100 games of 50 rounds, as setup in previous question, and store the strategy player's chips at the end of the game (aka \"winnings\") in a list. Histogram the winnings. What is the average winnings per round? What is the standard deviation. What is the probabilty of net winning or lossing after 50 rounds?\n"
   ]
  },
  {
   "cell_type": "markdown",
   "metadata": {},
   "source": [
    "9. Repeat previous questions scanning the value of the threshold. Try at least 5 different threshold values. Can you find an optimal value?"
   ]
  },
  {
   "cell_type": "markdown",
   "metadata": {},
   "source": [
    "10. Create a new strategy based on web searches or your own ideas. Demonstrate that the new strategy will result in increased or decreased winnings. "
   ]
  }
 ],
 "metadata": {
  "kernelspec": {
   "display_name": "Python 3",
   "language": "python",
   "name": "python3"
  },
  "language_info": {
   "codemirror_mode": {
    "name": "ipython",
    "version": 3
   },
   "file_extension": ".py",
   "mimetype": "text/x-python",
   "name": "python",
   "nbconvert_exporter": "python",
   "pygments_lexer": "ipython3",
   "version": "3.12.4"
  }
 },
 "nbformat": 4,
 "nbformat_minor": 4
}
