{
 "cells": [
  {
   "cell_type": "markdown",
   "metadata": {},
   "source": [
    "# Lab 6"
   ]
  },
  {
   "cell_type": "markdown",
   "metadata": {},
   "source": [
    "You are tasked with evaluating card counting strategies for black jack. In order to do so, you will use object oriented programming to create a playable casino style black jack game where a computer dealer plays against $n$ computer players and possibily one human player. If you don't know the rules of blackjack or card counting, please google it. \n",
    "\n",
    "A few requirements:\n",
    "* The game should utilize multiple 52-card decks. Typically the game is played with 6 decks.\n",
    "* Players should have chips.\n",
    "* Dealer's actions are predefined by rules of the game (typically hit on 16). \n",
    "* The players should be aware of all shown cards so that they can count cards.\n",
    "* Each player could have a different strategy.\n",
    "* The system should allow you to play large numbers of games, study the outcomes, and compare average winnings per hand rate for different strategies."
   ]
  },
  {
   "cell_type": "markdown",
   "metadata": {},
   "source": [
    "1. Begin by creating a classes to represent cards and decks. The deck should support more than one 52-card set. The deck should allow you to shuffle and draw cards. Include a \"plastic\" card, placed randomly in the deck. Later, when the plastic card is dealt, shuffle the cards before the next deal."
   ]
  },
  {
   "cell_type": "code",
   "execution_count": 1,
   "metadata": {},
   "outputs": [],
   "source": [
    "class Card:\n",
    "    def __init__(self, rank, suit):\n",
    "        self.rank = rank\n",
    "        self.suit = suit\n",
    "        self.value = self.card_value()\n",
    "    \n",
    "    def card_value(self):\n",
    "        if self.rank in ['J', 'Q', 'K']:\n",
    "            return 10\n",
    "        elif self.rank=='A':\n",
    "            return 11\n",
    "        else:\n",
    "            return int(self.rank)\n",
    "    \n",
    "    def __str__(self):\n",
    "        return f\"{self.rank},{self.suit}\""
   ]
  },
  {
   "cell_type": "code",
   "execution_count": 2,
   "metadata": {},
   "outputs": [],
   "source": [
    "import random\n",
    "class Deck:\n",
    "    def __init__(self, number_decks):\n",
    "        self.number_decks = number_decks\n",
    "        self.cards = self.generate_card()\n",
    "        self.shuffle()\n",
    "    \n",
    "    def generate_card(self):\n",
    "        suits = ['H', 'D', 'C', 'S']\n",
    "        ranks = ['2', '3', '4', '5', '6', '7', '8', '9', '10', 'J', 'Q', 'K', 'A']\n",
    "        return [Card(rank, suit) for suit in suits for rank in ranks] * self.number_decks\n",
    "    \n",
    "    def shuffle(self):\n",
    "        random.shuffle(self.cards)\n",
    "    \n",
    "    def draw_card(self):\n",
    "        card_draw = self.cards.pop(0)\n",
    "        return card_draw\n",
    "\n",
    "\n"
   ]
  },
  {
   "cell_type": "code",
   "execution_count": 3,
   "metadata": {},
   "outputs": [
    {
     "name": "stdout",
     "output_type": "stream",
     "text": [
      "Q,D: 10\n",
      "4,S: 4\n",
      "10,D: 10\n",
      "A,D: 11\n",
      "2,H: 2\n",
      "10,C: 10\n",
      "Q,C: 10\n",
      "5,H: 5\n",
      "6,S: 6\n",
      "A,H: 11\n",
      "J,C: 10\n",
      "A,S: 11\n",
      "3,S: 3\n",
      "6,C: 6\n",
      "7,C: 7\n",
      "J,D: 10\n",
      "3,C: 3\n",
      "8,D: 8\n",
      "5,D: 5\n",
      "J,S: 10\n",
      "K,H: 10\n",
      "10,H: 10\n",
      "4,H: 4\n",
      "8,C: 8\n",
      "K,D: 10\n",
      "A,C: 11\n",
      "8,S: 8\n",
      "3,H: 3\n",
      "4,D: 4\n",
      "9,C: 9\n",
      "2,D: 2\n",
      "7,D: 7\n",
      "4,C: 4\n",
      "10,S: 10\n",
      "8,H: 8\n",
      "J,H: 10\n",
      "9,D: 9\n",
      "3,D: 3\n",
      "9,S: 9\n",
      "2,C: 2\n",
      "9,H: 9\n",
      "Q,S: 10\n",
      "7,H: 7\n",
      "6,H: 6\n",
      "Q,H: 10\n",
      "2,S: 2\n",
      "K,C: 10\n",
      "K,S: 10\n",
      "5,S: 5\n",
      "7,S: 7\n",
      "5,C: 5\n",
      "6,D: 6\n"
     ]
    }
   ],
   "source": [
    "deck = Deck(1)\n",
    "for card in deck.cards:\n",
    "    print(f\"{card}: {card.card_value()}\")\n",
    "\n"
   ]
  },
  {
   "cell_type": "markdown",
   "metadata": {},
   "source": [
    "2. Now design your game on a UML diagram. You may want to create classes to represent, players, a hand, and/or the game. As you work through the lab, update your UML diagram. At the end of the lab, submit your diagram (as pdf file) along with your notebook. "
   ]
  },
  {
   "cell_type": "markdown",
   "metadata": {},
   "source": [
    "3. Begin with implementing the skeleton (ie define data members and methods/functions, but do not code the logic) of the classes in your UML diagram."
   ]
  },
  {
   "cell_type": "markdown",
   "metadata": {},
   "source": [
    "4. Complete the implementation by coding the logic of all functions. For now, just implement the dealer player and human player."
   ]
  },
  {
   "cell_type": "code",
   "execution_count": 9,
   "metadata": {},
   "outputs": [],
   "source": [
    "class Dealer:\n",
    "    def __init__(self):\n",
    "        self.hand = []\n",
    "\n",
    "    def hand_value(self):\n",
    "        total = sum(card.card_value() for card in self.hand)\n",
    "        num_aces = sum(1 for card in self.hand if card.rank == 'A')\n",
    "        \n",
    "        while total > 21 and num_aces:\n",
    "            total -= 10  # Convert an Ace from 11 to 1\n",
    "            num_aces -= 1\n",
    "\n",
    "        return total\n",
    "    \n",
    "    def play(self, deck):\n",
    "        if self.hand_value()<17:\n",
    "            self.hand.append(deck.draw_card())\n",
    "\n",
    "    \n"
   ]
  },
  {
   "cell_type": "code",
   "execution_count": 10,
   "metadata": {},
   "outputs": [],
   "source": [
    "class Player:\n",
    "    def __init__(self, name, chips=1000):\n",
    "        self.name = name\n",
    "        self.hand = []\n",
    "        self.chips = chips\n",
    "\n",
    "    def hand_value(self):\n",
    "        total = sum(card.card_value() for card in self.hand)\n",
    "        num_aces = sum(1 for card in self.hand if card.rank == 'A')\n",
    "        \n",
    "        while total > 21 and num_aces:\n",
    "            total -= 10  # Convert an Ace from 11 to 1\n",
    "            num_aces -= 1\n",
    "\n",
    "        return total\n",
    "    \n",
    "    def play(self, deck):\n",
    "        if self.hand_value()<17:\n",
    "            self.hand.append(deck.draw_card())\n",
    "    \n",
    "    def bet(self, n):\n",
    "        self.chips = self.chips - 10\n",
    "        return 10\n",
    "\n",
    "    def winning(self, n):\n",
    "        return self.chips+n\n",
    "    \n",
    "    def loosing(self, n):\n",
    "        return self.chips-n\n",
    "    \n",
    "    def __str__(self):\n",
    "        return f\"{self.name}: {', '.join(str(card) for card in self.hand)} (Total: {self.hand_value()})\""
   ]
  },
  {
   "cell_type": "code",
   "execution_count": 11,
   "metadata": {},
   "outputs": [],
   "source": [
    "class Human(Player):\n",
    "    def __init__(self, name, chips):\n",
    "        super().__init__(name, chips)\n",
    "    def play(self, deck):\n",
    "        if self.hand_value()<16:\n",
    "            self.hand.append(deck.draw_card())\n",
    "    def bet(self, n):\n",
    "        if n > self.chips:\n",
    "            print(\"Player does not have enough chips.\")\n",
    "        else:\n",
    "            self.chips = self.chips - n\n",
    "        return self.chips\n"
   ]
  },
  {
   "cell_type": "code",
   "execution_count": 12,
   "metadata": {},
   "outputs": [],
   "source": [
    "class Game:\n",
    "    def __init__(self, num_players, human_player = False, num_decks=6):\n",
    "        self.dealer = Dealer()\n",
    "        self.deck = Deck(num_decks)\n",
    "        self.players = [Player(f\"Player {i+1}\") for i in range(num_players)]\n",
    "        \n",
    "        if human_player:\n",
    "            human_name = input(\"Enter your name: \")\n",
    "            self.players.append(Human(human_name))\n",
    "    \n",
    "    def play_round(self):\n",
    "        self.dealer.hand = [self.deck.draw_card(), self.deck.draw_card()]\n",
    "        for player in self.players:\n",
    "            player.hand = [self.deck.draw_card(), self.deck.draw_card()]\n",
    "        \n",
    "        # Players take turns\n",
    "        for player in self.players:\n",
    "            player.play(self.deck)\n",
    "        \n",
    "        # Dealer plays\n",
    "        self.dealer.play(self.deck)\n",
    "\n",
    "        # Display final hands\n",
    "        self.display_results()\n",
    "\n",
    "    def display_results(self):\n",
    "        print(\"\\nFinal results:\")\n",
    "        print(self.dealer)\n",
    "        for player in self.players:\n",
    "            print(player)\n",
    "            if player.hand_value() > 21:\n",
    "                print(f\"{player.name} busts! Dealer wins.\")\n",
    "            elif self.dealer.hand_value() > 21:\n",
    "                print(f\"Dealer busts! {player.name} wins!\")\n",
    "            elif player.hand_value() > self.dealer.hand_value():\n",
    "                print(f\"{player.name} wins!\")\n",
    "            elif player.hand_value() < self.dealer.hand_value():\n",
    "                print(f\"Dealer wins against {player.name}.\")\n",
    "            else:\n",
    "                print(f\"{player.name} ties with the dealer.\")\n",
    "\n",
    "        \n",
    "    \n",
    "        \n"
   ]
  },
  {
   "cell_type": "markdown",
   "metadata": {},
   "source": [
    "5.  Test. Demonstrate game play. For example, create a game of several dealer players and show that the game is functional through several rounds."
   ]
  },
  {
   "cell_type": "code",
   "execution_count": 13,
   "metadata": {},
   "outputs": [
    {
     "name": "stdout",
     "output_type": "stream",
     "text": [
      "\n",
      "Final results:\n",
      "<__main__.Dealer object at 0x000001ED6C2A7380>\n",
      "Player 1: 9,S, K,S (Total: 19)\n",
      "Player 1 wins!\n"
     ]
    }
   ],
   "source": [
    "if __name__ == \"__main__\":\n",
    "    num_players = int(input(\"Enter the number of AI players: \"))\n",
    "    include_human = input(\"Do you want to play? (yes/no): \").strip().lower() == \"yes\"\n",
    "\n",
    "    game = Game(num_players=num_players, human_player = include_human, num_decks=6)\n",
    "    game.play_round()"
   ]
  },
  {
   "cell_type": "markdown",
   "metadata": {},
   "source": [
    "6. Implement a new player with the following strategy:\n",
    "\n",
    "    * Assign each card a value: \n",
    "        * Cards 2 to 6 are +1 \n",
    "        * Cards 7 to 9 are 0 \n",
    "        * Cards 10 through Ace are -1\n",
    "    * Compute the sum of the values for all cards seen so far.\n",
    "    * Hit if sum is very negative, stay if sum is very positive. Select a threshold for hit/stay, e.g. 0 or -2.  "
   ]
  },
  {
   "cell_type": "markdown",
   "metadata": {},
   "source": [
    "7. Create a test scenario where one player, using the above strategy, is playing with a dealer and 3 other players that follow the dealer's strategy. Each player starts with same number of chips. Play 50 rounds (or until the strategy player is out of money). Compute the strategy player's winnings. You may remove unnecessary printouts from your code (perhaps implement a verbose/quiet mode) to reduce the output."
   ]
  },
  {
   "cell_type": "markdown",
   "metadata": {},
   "source": [
    "8. Create a loop that runs 100 games of 50 rounds, as setup in previous question, and store the strategy player's chips at the end of the game (aka \"winnings\") in a list. Histogram the winnings. What is the average winnings per round? What is the standard deviation. What is the probabilty of net winning or lossing after 50 rounds?\n"
   ]
  },
  {
   "cell_type": "markdown",
   "metadata": {},
   "source": [
    "9. Repeat previous questions scanning the value of the threshold. Try at least 5 different threshold values. Can you find an optimal value?"
   ]
  },
  {
   "cell_type": "markdown",
   "metadata": {},
   "source": [
    "10. Create a new strategy based on web searches or your own ideas. Demonstrate that the new strategy will result in increased or decreased winnings. "
   ]
  }
 ],
 "metadata": {
  "kernelspec": {
   "display_name": "Python 3",
   "language": "python",
   "name": "python3"
  },
  "language_info": {
   "codemirror_mode": {
    "name": "ipython",
    "version": 3
   },
   "file_extension": ".py",
   "mimetype": "text/x-python",
   "name": "python",
   "nbconvert_exporter": "python",
   "pygments_lexer": "ipython3",
   "version": "3.12.4"
  }
 },
 "nbformat": 4,
 "nbformat_minor": 4
}
